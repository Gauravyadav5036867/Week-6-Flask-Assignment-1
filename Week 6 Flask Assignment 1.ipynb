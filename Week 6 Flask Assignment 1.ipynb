{
 "cells": [
  {
   "cell_type": "code",
   "execution_count": null,
   "id": "d04537d4-3f95-4cdd-8790-ec58226ce1b1",
   "metadata": {},
   "outputs": [],
   "source": [
    "#Question 1\n",
    "\n",
    "Python's Flask micro web framework is well-liked and frequently used to create online apps. It offers a straightforward and adaptable method for developing Python-based web applications and APIs (Application Programming Interfaces).\n",
    "\n",
    "Advantages of using Flask framework are:\n",
    "There is a built-in development server and a fast debugger provided.\n",
    "Lightweight.\n",
    "Support Secure cookies.\n",
    "Templating using Jinja2.\n",
    "Request dispatching using REST.\n",
    "Support for unit testing is built-in."
   ]
  },
  {
   "cell_type": "code",
   "execution_count": null,
   "id": "100049d7-471c-4fee-81de-1ef43739dcea",
   "metadata": {},
   "outputs": [],
   "source": [
    "#Question 2\n",
    "\n",
    "from flask import Flask\n",
    "\n",
    "app = Flask(__name__)\n",
    "\n",
    "@app.route('/')\n",
    "def hello_world():\n",
    "    return 'Hello, World!!'\n",
    "\n",
    "if __name__ == '__main__':\n",
    "    app.run(debug=True)\n"
   ]
  },
  {
   "cell_type": "code",
   "execution_count": null,
   "id": "29423b37-051a-4d8d-af31-840c18abcf16",
   "metadata": {},
   "outputs": [],
   "source": [
    "#Question 3\n",
    "\n",
    "App routing in Flask is a way to map the URL paths (routes) of a web application to the functions that handle the requests made to those paths. This is done using the @app.route() decorator provided by Flask.\n",
    "\n",
    "Why Do We Use App Routes?\n",
    "URL Mapping: App routes allow you to define how URLs should be handled in your application. For example, you can specify that the URL /about should be handled by a function that returns information about your application.\n",
    "\n",
    "Organization: Routes help organize the application by associating specific URLs with specific pieces of logic. This makes the application easier to understand and maintain.\n",
    "\n",
    "Handling Different Requests: You can use routes to handle different types of requests (GET, POST, PUT, DELETE, etc.) for the same URL. This is useful for creating RESTful APIs.\n",
    "\n",
    "Dynamic URLs: Routes can include dynamic components, allowing you to create URLs that can handle variable content. For example, you can have a URL like /user/<username> that dynamically responds based on the username provided in the URL."
   ]
  },
  {
   "cell_type": "code",
   "execution_count": null,
   "id": "a6c59dd4-a02e-4b08-b31f-f3734be08678",
   "metadata": {},
   "outputs": [],
   "source": [
    "#Question 4\n",
    "\n",
    "from flask import Flask\n",
    "\n",
    "app = Flask(__name__)\n",
    "\n",
    "@app.route('/')\n",
    "def home():\n",
    "    return '''\n",
    "    Company Name: ABC Corporation<br>\n",
    "    Location: India<br>\n",
    "    Contact Detail: 999-999-9999\n",
    "    '''\n",
    "\n",
    "@app.route('/welcome')\n",
    "def welcome():\n",
    "    return 'Welcome to ABC Corporation'\n",
    "\n",
    "if __name__ == '__main__':\n",
    "    app.run(debug=True)\n"
   ]
  },
  {
   "cell_type": "code",
   "execution_count": null,
   "id": "d82c064a-27c6-42c0-9d7d-3dfed63c97aa",
   "metadata": {},
   "outputs": [],
   "source": [
    "#Question 5\n"
   ]
  }
 ],
 "metadata": {
  "kernelspec": {
   "display_name": "Python 3 (ipykernel)",
   "language": "python",
   "name": "python3"
  },
  "language_info": {
   "codemirror_mode": {
    "name": "ipython",
    "version": 3
   },
   "file_extension": ".py",
   "mimetype": "text/x-python",
   "name": "python",
   "nbconvert_exporter": "python",
   "pygments_lexer": "ipython3",
   "version": "3.10.8"
  }
 },
 "nbformat": 4,
 "nbformat_minor": 5
}
